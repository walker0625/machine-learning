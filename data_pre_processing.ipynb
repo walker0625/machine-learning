{
 "cells": [
  {
   "cell_type": "markdown",
   "id": "9e1af578",
   "metadata": {},
   "source": [
    "# Data 전처리(EDA)"
   ]
  },
  {
   "cell_type": "code",
   "execution_count": 16,
   "id": "ab512339",
   "metadata": {},
   "outputs": [],
   "source": [
    "import pandas as pd\n",
    "import numpy as np\n",
    "\n",
    "# 0. Data Load\n",
    "data = {\n",
    "    'age': [25, 27, np.nan, 29, 31, np.nan, 35],\n",
    "    'income': [50000, 54000, 58000, np.nan, 61000, 62000, np.nan]\n",
    "}\n",
    "\n",
    "df = pd.DataFrame(data)"
   ]
  },
  {
   "cell_type": "code",
   "execution_count": 17,
   "id": "aad7cc81",
   "metadata": {},
   "outputs": [
    {
     "data": {
      "text/plain": [
       "age       2\n",
       "income    2\n",
       "dtype: int64"
      ]
     },
     "execution_count": 17,
     "metadata": {},
     "output_type": "execute_result"
    }
   ],
   "source": [
    "# 1. 결측치 처리\n",
    "\n",
    "## 결측치 확인\n",
    "df.isnull().sum()\n",
    "\n",
    "## 결측치 삭제 - data가 많고 결측치가 적을때 결정\n",
    "# df.dropna()"
   ]
  },
  {
   "cell_type": "code",
   "execution_count": 21,
   "id": "4b87b679",
   "metadata": {},
   "outputs": [
    {
     "name": "stdout",
     "output_type": "stream",
     "text": [
      "[[   25.  50000. ]\n",
      " [   27.  54000. ]\n",
      " [   29.4 58000. ]\n",
      " [   29.  57000. ]\n",
      " [   31.  61000. ]\n",
      " [   29.4 62000. ]\n",
      " [   35.  57000. ]]\n"
     ]
    },
    {
     "data": {
      "text/html": [
       "<div>\n",
       "<style scoped>\n",
       "    .dataframe tbody tr th:only-of-type {\n",
       "        vertical-align: middle;\n",
       "    }\n",
       "\n",
       "    .dataframe tbody tr th {\n",
       "        vertical-align: top;\n",
       "    }\n",
       "\n",
       "    .dataframe thead th {\n",
       "        text-align: right;\n",
       "    }\n",
       "</style>\n",
       "<table border=\"1\" class=\"dataframe\">\n",
       "  <thead>\n",
       "    <tr style=\"text-align: right;\">\n",
       "      <th></th>\n",
       "      <th>age</th>\n",
       "      <th>income</th>\n",
       "    </tr>\n",
       "  </thead>\n",
       "  <tbody>\n",
       "    <tr>\n",
       "      <th>0</th>\n",
       "      <td>25</td>\n",
       "      <td>50000</td>\n",
       "    </tr>\n",
       "    <tr>\n",
       "      <th>1</th>\n",
       "      <td>27</td>\n",
       "      <td>54000</td>\n",
       "    </tr>\n",
       "    <tr>\n",
       "      <th>2</th>\n",
       "      <td>29</td>\n",
       "      <td>58000</td>\n",
       "    </tr>\n",
       "    <tr>\n",
       "      <th>3</th>\n",
       "      <td>29</td>\n",
       "      <td>57000</td>\n",
       "    </tr>\n",
       "    <tr>\n",
       "      <th>4</th>\n",
       "      <td>31</td>\n",
       "      <td>61000</td>\n",
       "    </tr>\n",
       "    <tr>\n",
       "      <th>5</th>\n",
       "      <td>29</td>\n",
       "      <td>62000</td>\n",
       "    </tr>\n",
       "    <tr>\n",
       "      <th>6</th>\n",
       "      <td>35</td>\n",
       "      <td>57000</td>\n",
       "    </tr>\n",
       "  </tbody>\n",
       "</table>\n",
       "</div>"
      ],
      "text/plain": [
       "   age  income\n",
       "0   25   50000\n",
       "1   27   54000\n",
       "2   29   58000\n",
       "3   29   57000\n",
       "4   31   61000\n",
       "5   29   62000\n",
       "6   35   57000"
      ]
     },
     "execution_count": 21,
     "metadata": {},
     "output_type": "execute_result"
    }
   ],
   "source": [
    "# 결측치 처리방법 제공\n",
    "from sklearn.impute import SimpleImputer \n",
    "\n",
    "pd.set_option('display.float_format', '{:.0f}'.format)\n",
    "np.set_printoptions(suppress=True)\n",
    "\n",
    "imputer = SimpleImputer(strategy='mean') # median / most_frequent(없으면 첫번째값) / constant \n",
    "#imputer = SimpleImputer(strategy='constant', fill_value=10)\n",
    "\n",
    "result = imputer.fit_transform(df[['age', 'income']])\n",
    "print(result)\n",
    "\n",
    "df[['age', 'income']] = result\n",
    "df"
   ]
  },
  {
   "cell_type": "code",
   "execution_count": null,
   "id": "18686528",
   "metadata": {},
   "outputs": [],
   "source": [
    "# 2. 이상치 처리"
   ]
  },
  {
   "cell_type": "code",
   "execution_count": null,
   "id": "6c301ae3",
   "metadata": {},
   "outputs": [],
   "source": [
    "\n",
    "# 3. 범주형 인코딩"
   ]
  },
  {
   "cell_type": "code",
   "execution_count": null,
   "id": "28c26797",
   "metadata": {},
   "outputs": [],
   "source": [
    "# 4. 스케일링/정규화"
   ]
  },
  {
   "cell_type": "code",
   "execution_count": null,
   "id": "cf1783f1",
   "metadata": {},
   "outputs": [],
   "source": [
    "# 5. 데이터 분할 (Train/Test)"
   ]
  },
  {
   "cell_type": "code",
   "execution_count": null,
   "id": "3edf31f1",
   "metadata": {},
   "outputs": [],
   "source": [
    "# 6. 피처 엔지니어링 (선택사항)"
   ]
  }
 ],
 "metadata": {
  "kernelspec": {
   "display_name": "machine-learning",
   "language": "python",
   "name": "python3"
  },
  "language_info": {
   "codemirror_mode": {
    "name": "ipython",
    "version": 3
   },
   "file_extension": ".py",
   "mimetype": "text/x-python",
   "name": "python",
   "nbconvert_exporter": "python",
   "pygments_lexer": "ipython3",
   "version": "3.11.13"
  }
 },
 "nbformat": 4,
 "nbformat_minor": 5
}

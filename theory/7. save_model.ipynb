{
 "cells": [
  {
   "cell_type": "markdown",
   "id": "bcec5267",
   "metadata": {},
   "source": [
    "# 모델 저장 및 불러오기\n",
    "### auto_ml로 파악한 최적의 model_type과 parameter로 모델을 생성 후 저장"
   ]
  },
  {
   "cell_type": "code",
   "execution_count": 1,
   "id": "4b90f604",
   "metadata": {},
   "outputs": [
    {
     "data": {
      "text/plain": [
       "['model.pkl']"
      ]
     },
     "execution_count": 1,
     "metadata": {},
     "output_type": "execute_result"
    }
   ],
   "source": [
    "from sklearn.ensemble import RandomForestClassifier\n",
    "from sklearn.datasets import load_iris\n",
    "from sklearn.model_selection import train_test_split\n",
    "from sklearn.metrics import r2_score\n",
    "\n",
    "import joblib\n",
    "\n",
    "# 데이터 준비 및 모델 학습\n",
    "X, y = load_iris(return_X_y=True)\n",
    "X_train, X_test, y_train, y_test = train_test_split(X, y)\n",
    "model = RandomForestClassifier()\n",
    "model.fit(X_train, y_train)\n",
    "\n",
    "# 모델 저장\n",
    "joblib.dump(model, 'model.pkl')"
   ]
  },
  {
   "cell_type": "code",
   "execution_count": 2,
   "id": "9748f85e",
   "metadata": {},
   "outputs": [
    {
     "data": {
      "text/plain": [
       "0.9613821138211383"
      ]
     },
     "execution_count": 2,
     "metadata": {},
     "output_type": "execute_result"
    }
   ],
   "source": [
    "# 모델 불러오기\n",
    "loaded_model = joblib.load('model.pkl')\n",
    "\n",
    "# 예측 사용\n",
    "predictions = loaded_model.predict(X_test)\n",
    "\n",
    "r2_score(y_test, predictions)"
   ]
  }
 ],
 "metadata": {
  "kernelspec": {
   "display_name": "machine-learning",
   "language": "python",
   "name": "python3"
  },
  "language_info": {
   "codemirror_mode": {
    "name": "ipython",
    "version": 3
   },
   "file_extension": ".py",
   "mimetype": "text/x-python",
   "name": "python",
   "nbconvert_exporter": "python",
   "pygments_lexer": "ipython3",
   "version": "3.11.13"
  }
 },
 "nbformat": 4,
 "nbformat_minor": 5
}
